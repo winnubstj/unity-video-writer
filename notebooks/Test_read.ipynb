{
 "cells": [
  {
   "cell_type": "code",
   "execution_count": 1,
   "id": "essential-vulnerability",
   "metadata": {},
   "outputs": [],
   "source": [
    "base_dir = 'C:/temp'\n",
    "video_file = 'frame 1.bin'"
   ]
  },
  {
   "cell_type": "code",
   "execution_count": 12,
   "id": "breeding-partnership",
   "metadata": {},
   "outputs": [
    {
     "name": "stdout",
     "output_type": "stream",
     "text": [
      "2013088\n"
     ]
    }
   ],
   "source": [
    "\n",
    "file = open(os.path.join(base_dir,video_file), \"rb\")\n",
    "\n",
    "byte = \n",
    "print(len(byte))"
   ]
  },
  {
   "cell_type": "code",
   "execution_count": 54,
   "id": "spiritual-track",
   "metadata": {},
   "outputs": [
    {
     "name": "stdout",
     "output_type": "stream",
     "text": [
      "503272\n"
     ]
    }
   ],
   "source": [
    "import os.path\n",
    "import numpy as np\n",
    "import matplotlib.pyplot as plt\n",
    "from PIL import Image\n",
    "\n",
    "file = open(os.path.join(base_dir,video_file), \"rb\")\n",
    "dt = np.dtype({'names': ['a','r','g','b'],\n",
    "               'formats': [np.uint8, np.uint8, np.uint8, np.uint8]})\n",
    "I = np.frombuffer(file.read(), dtype=dt)\n",
    "print(len(I))\n",
    "#im_data = np.stack((I['r'],I['g'],I['b'],I['a']),axis=1).reshape((532, 946,4))\n",
    "#Im = Image.fromarray(im_data,'RGBA')\n",
    "\n",
    "im_data = np.stack((I['r'],I['g'],I['b']),axis=1).reshape((532, 946,3))\n",
    "Im = Image.fromarray(im_data,'RGB')\n",
    "\n",
    "Im.show()"
   ]
  },
  {
   "cell_type": "code",
   "execution_count": 40,
   "id": "foreign-yield",
   "metadata": {},
   "outputs": [
    {
     "name": "stdout",
     "output_type": "stream",
     "text": [
      "503272\n"
     ]
    }
   ],
   "source": [
    "with open(os.path.join(base_dir,\"video.bin\"), \"rb\") as file:\n",
    "    dt = np.dtype({'names': ['a','r','g','b'],\n",
    "                   'formats': [np.uint8, np.uint8, np.uint8, np.uint8]})\n",
    "    I = np.frombuffer(file.read((503272*4)), dtype=dt)\n",
    "print(len(I))\n",
    "im_data = np.stack((I['r'],I['g'],I['b']),axis=1).reshape((532, 946,3))\n",
    "Im = Image.fromarray(im_data,'RGB')\n",
    "\n",
    "Im.show()"
   ]
  },
  {
   "cell_type": "code",
   "execution_count": 67,
   "id": "convenient-career",
   "metadata": {},
   "outputs": [
    {
     "name": "stdout",
     "output_type": "stream",
     "text": [
      "(0.0253164,)\n",
      "57030,57030\n"
     ]
    }
   ],
   "source": [
    "import io\n",
    "import struct\n",
    "os.mkdir(os.path.join(base_dir,'temp'))\n",
    "temp_folder = \n",
    "with open(os.path.join(base_dir,\"video.bin\"), \"rb\") as file:\n",
    "    # get first 4 bytes (im size in bytes)\n",
    "    im_byte_size = int.from_bytes(file.read(4),byteorder='little')\n",
    "    im_bytes = file.read(im_byte_size)\n",
    "    im_elapsed = struct.unpack('d',file.read(8))\n",
    "    # write file.\n",
    "    \n",
    "    #print(im_elapsed)\n",
    "    #print(f'{im_byte_size},{len(im_bytes)}')\n",
    "    #picture_stream = io.BytesIO(im_bytes)\n",
    "    #picture = Image.open(picture_stream)\n",
    "    #picture = picture.transpose(Image.FLIP_TOP_BOTTOM)\n",
    "    #picture.show()"
   ]
  },
  {
   "cell_type": "code",
   "execution_count": 3,
   "id": "elementary-circular",
   "metadata": {},
   "outputs": [],
   "source": [
    "import io\n",
    "import struct\n",
    "import subprocess\n",
    "import os\n",
    "import shutil\n",
    "base_dir = 'C:/temp'\n",
    "input_file_name = '2021_3_5__16-45-13.univideo'\n",
    "# Create temp folder.\n",
    "temp_folder = os.path.join(base_dir,'temp')\n",
    "if not os.path.isdir(temp_folder):\n",
    "    os.mkdir(temp_folder)\n",
    "counter = 0\n",
    "export_file_name = os.path.join(temp_folder,\"export.txt\") # stores frame file names and duration\n",
    "with open(os.path.join(base_dir,input_file_name), \"rb\") as file, open(export_file_name, \"w\") as export_file:\n",
    "    while file.read(1):\n",
    "        counter+=1\n",
    "        file.seek(-1,1)\n",
    "        # get first 4 bytes (im size in bytes)\n",
    "        im_byte_size = int.from_bytes(file.read(4),byteorder='little')\n",
    "        # get jpeg.\n",
    "        im_bytes = file.read(im_byte_size)\n",
    "        if file.read(1):\n",
    "            file.seek(-1,1)\n",
    "            output_file_name = f'frame_{counter}.jpeg'\n",
    "            # get duration of frame\n",
    "            im_duration = struct.unpack('d',file.read(8))[0]\n",
    "            # write export settings.\n",
    "            export_file.write(f'file \\'{output_file_name}\\'\\n' )\n",
    "            export_file.write(f'duration {im_duration}\\n' )\n",
    "            # write jpeg file.\n",
    "            with open(os.path.join(temp_folder,output_file_name), \"wb\") as output_file:\n",
    "                output_file.write(im_bytes)\n",
    "# run ffmpeg.\n",
    "os.chdir(temp_folder)\n",
    "subprocess.call(f'ffmpeg -y -f concat -i export.txt -filter:v \"vflip\" ../{os.path.splitext(input_file_name)[0]}.mp4', shell=True)\n",
    "os.chdir(base_dir)\n",
    "# delete temp folder.\n",
    "shutil.rmtree(temp_folder)\n",
    "# delete binary file.\n",
    "os.remove(os.path.join(base_dir,input_file_name))"
   ]
  },
  {
   "cell_type": "code",
   "execution_count": 7,
   "id": "spanish-pressing",
   "metadata": {},
   "outputs": [
    {
     "ename": "FileNotFoundError",
     "evalue": "[Errno 2] No such file or directory: 'C:/temp\\\\2021_3_5__16-45-13.univideo'",
     "output_type": "error",
     "traceback": [
      "\u001b[1;31m---------------------------------------------------------------------------\u001b[0m",
      "\u001b[1;31mFileNotFoundError\u001b[0m                         Traceback (most recent call last)",
      "\u001b[1;32m<ipython-input-7-05095d029b9f>\u001b[0m in \u001b[0;36m<module>\u001b[1;34m\u001b[0m\n\u001b[0;32m      1\u001b[0m \u001b[0mbase_dir\u001b[0m \u001b[1;33m=\u001b[0m \u001b[1;34m'C:/temp'\u001b[0m\u001b[1;33m\u001b[0m\u001b[1;33m\u001b[0m\u001b[0m\n\u001b[0;32m      2\u001b[0m \u001b[0minput_file_name\u001b[0m \u001b[1;33m=\u001b[0m \u001b[1;34m'2021_3_5__16-45-13.univideo'\u001b[0m\u001b[1;33m\u001b[0m\u001b[1;33m\u001b[0m\u001b[0m\n\u001b[1;32m----> 3\u001b[1;33m \u001b[0mProcess_UniVideo\u001b[0m\u001b[1;33m(\u001b[0m\u001b[0mbase_dir\u001b[0m\u001b[1;33m,\u001b[0m \u001b[0minput_file_name\u001b[0m\u001b[1;33m)\u001b[0m\u001b[1;33m\u001b[0m\u001b[1;33m\u001b[0m\u001b[0m\n\u001b[0m",
      "\u001b[1;32m<ipython-input-6-13c2e5ef0708>\u001b[0m in \u001b[0;36mProcess_UniVideo\u001b[1;34m(base_dir, input_file_name)\u001b[0m\n\u001b[0;32m      6\u001b[0m     \u001b[0mcounter\u001b[0m \u001b[1;33m=\u001b[0m \u001b[1;36m0\u001b[0m\u001b[1;33m\u001b[0m\u001b[1;33m\u001b[0m\u001b[0m\n\u001b[0;32m      7\u001b[0m     \u001b[0mexport_file_name\u001b[0m \u001b[1;33m=\u001b[0m \u001b[0mos\u001b[0m\u001b[1;33m.\u001b[0m\u001b[0mpath\u001b[0m\u001b[1;33m.\u001b[0m\u001b[0mjoin\u001b[0m\u001b[1;33m(\u001b[0m\u001b[0mtemp_folder\u001b[0m\u001b[1;33m,\u001b[0m\u001b[1;34m\"export.txt\"\u001b[0m\u001b[1;33m)\u001b[0m \u001b[1;31m# stores frame file names and duration\u001b[0m\u001b[1;33m\u001b[0m\u001b[1;33m\u001b[0m\u001b[0m\n\u001b[1;32m----> 8\u001b[1;33m     \u001b[1;32mwith\u001b[0m \u001b[0mopen\u001b[0m\u001b[1;33m(\u001b[0m\u001b[0mos\u001b[0m\u001b[1;33m.\u001b[0m\u001b[0mpath\u001b[0m\u001b[1;33m.\u001b[0m\u001b[0mjoin\u001b[0m\u001b[1;33m(\u001b[0m\u001b[0mbase_dir\u001b[0m\u001b[1;33m,\u001b[0m\u001b[0minput_file_name\u001b[0m\u001b[1;33m)\u001b[0m\u001b[1;33m,\u001b[0m \u001b[1;34m\"rb\"\u001b[0m\u001b[1;33m)\u001b[0m \u001b[1;32mas\u001b[0m \u001b[0mfile\u001b[0m\u001b[1;33m,\u001b[0m \u001b[0mopen\u001b[0m\u001b[1;33m(\u001b[0m\u001b[0mexport_file_name\u001b[0m\u001b[1;33m,\u001b[0m \u001b[1;34m\"w\"\u001b[0m\u001b[1;33m)\u001b[0m \u001b[1;32mas\u001b[0m \u001b[0mexport_file\u001b[0m\u001b[1;33m:\u001b[0m\u001b[1;33m\u001b[0m\u001b[1;33m\u001b[0m\u001b[0m\n\u001b[0m\u001b[0;32m      9\u001b[0m         \u001b[1;32mwhile\u001b[0m \u001b[0mfile\u001b[0m\u001b[1;33m.\u001b[0m\u001b[0mread\u001b[0m\u001b[1;33m(\u001b[0m\u001b[1;36m1\u001b[0m\u001b[1;33m)\u001b[0m\u001b[1;33m:\u001b[0m\u001b[1;33m\u001b[0m\u001b[1;33m\u001b[0m\u001b[0m\n\u001b[0;32m     10\u001b[0m             \u001b[0mcounter\u001b[0m\u001b[1;33m+=\u001b[0m\u001b[1;36m1\u001b[0m\u001b[1;33m\u001b[0m\u001b[1;33m\u001b[0m\u001b[0m\n",
      "\u001b[1;31mFileNotFoundError\u001b[0m: [Errno 2] No such file or directory: 'C:/temp\\\\2021_3_5__16-45-13.univideo'"
     ]
    }
   ],
   "source": [
    "base_dir = 'C:/temp'\n",
    "input_file_name = '2021_3_5__16-45-13.univideo'\n",
    "Process_UniVideo(base_dir, input_file_name)"
   ]
  },
  {
   "cell_type": "code",
   "execution_count": 6,
   "id": "large-recruitment",
   "metadata": {},
   "outputs": [],
   "source": [
    "def Process_UniVideo(base_dir, input_file_name):\n",
    "    # Create temp folder.\n",
    "    temp_folder = os.path.join(base_dir,'temp')\n",
    "    if not os.path.isdir(temp_folder):\n",
    "        os.mkdir(temp_folder)\n",
    "    counter = 0\n",
    "    export_file_name = os.path.join(temp_folder,\"export.txt\") # stores frame file names and duration\n",
    "    with open(os.path.join(base_dir,input_file_name), \"rb\") as file, open(export_file_name, \"w\") as export_file:\n",
    "        while file.read(1):\n",
    "            counter+=1\n",
    "            file.seek(-1,1)\n",
    "            # get first 4 bytes (im size in bytes)\n",
    "            im_byte_size = int.from_bytes(file.read(4),byteorder='little')\n",
    "            # get jpeg.\n",
    "            im_bytes = file.read(im_byte_size)\n",
    "            if file.read(1):\n",
    "                file.seek(-1,1)\n",
    "                output_file_name = f'frame_{counter}.jpeg'\n",
    "                # get duration of frame\n",
    "                im_duration = struct.unpack('d',file.read(8))[0]\n",
    "                # write export settings.\n",
    "                export_file.write(f'file \\'{output_file_name}\\'\\n' )\n",
    "                export_file.write(f'duration {im_duration}\\n' )\n",
    "                # write jpeg file.\n",
    "                with open(os.path.join(temp_folder,output_file_name), \"wb\") as output_file:\n",
    "                    output_file.write(im_bytes)\n",
    "    # run ffmpeg.\n",
    "    os.chdir(temp_folder)\n",
    "    subprocess.call(f'ffmpeg -y -f concat -i export.txt -filter:v \"vflip\" ../{os.path.splitext(input_file_name)[0]}.mp4', shell=True)\n",
    "    os.chdir(base_dir)\n",
    "    # delete temp folder.\n",
    "    shutil.rmtree(temp_folder)\n",
    "    # delete binary file.\n",
    "    os.remove(os.path.join(base_dir,input_file_name))"
   ]
  },
  {
   "cell_type": "code",
   "execution_count": 8,
   "id": "early-mention",
   "metadata": {},
   "outputs": [
    {
     "name": "stdout",
     "output_type": "stream",
     "text": [
      "The autoreload extension is already loaded. To reload it, use:\n",
      "  %reload_ext autoreload\n",
      "C:/temp\n",
      "Log-11.univideo\n"
     ]
    }
   ],
   "source": [
    "%load_ext autoreload\n",
    "%autoreload 2\n",
    "from univideo import process_univideo\n",
    "process_univideo('C:/temp/Log-11.univideo')"
   ]
  },
  {
   "cell_type": "code",
   "execution_count": 22,
   "id": "eligible-watts",
   "metadata": {},
   "outputs": [
    {
     "name": "stdout",
     "output_type": "stream",
     "text": [
      "Found 5 univideo files in C:/temp\n",
      "\n",
      "Processing: Log-10.univideo (0 of 5)\n",
      "Processing: Log-11.univideo (1 of 5)\n",
      "Processing: Log-7.univideo (2 of 5)\n",
      "Processing: Log-8.univideo (3 of 5)\n",
      "Processing: Log-9.univideo (4 of 5)\n"
     ]
    }
   ],
   "source": [
    "import glob\n",
    "import os\n",
    "base_folder = 'C:/temp'\n",
    "file_list = glob.glob(f'{os.path.join(base_folder,\"*.univideo\")}')\n",
    "print(f'Found {len(file_list)} univideo files in {base_folder}\\n')\n",
    "for counter,file in enumerate(file_list):\n",
    "    print(f'Processing: {os.path.basename(file)} ({counter} of {len(file_list)})')\n",
    "    "
   ]
  },
  {
   "cell_type": "code",
   "execution_count": 23,
   "id": "creative-stupid",
   "metadata": {},
   "outputs": [
    {
     "name": "stdout",
     "output_type": "stream",
     "text": [
      "The autoreload extension is already loaded. To reload it, use:\n",
      "  %reload_ext autoreload\n",
      "Found 5 univideo files in C:/temp\n",
      "\n",
      "Processing: Log-10.univideo (0 of 5)\n",
      "C:/temp\n",
      "Log-10.univideo\n",
      "Processing: Log-11.univideo (1 of 5)\n",
      "C:/temp\n",
      "Log-11.univideo\n",
      "Processing: Log-7.univideo (2 of 5)\n",
      "C:/temp\n",
      "Log-7.univideo\n",
      "Processing: Log-8.univideo (3 of 5)\n",
      "C:/temp\n",
      "Log-8.univideo\n",
      "Processing: Log-9.univideo (4 of 5)\n",
      "C:/temp\n",
      "Log-9.univideo\n"
     ]
    }
   ],
   "source": [
    "%load_ext autoreload\n",
    "%autoreload 2\n",
    "from univideo import process_folder\n",
    "process_folder('C:\\temp')"
   ]
  },
  {
   "cell_type": "code",
   "execution_count": 24,
   "id": "several-waterproof",
   "metadata": {},
   "outputs": [
    {
     "ename": "SyntaxError",
     "evalue": "invalid syntax (<ipython-input-24-ee47820e3ce3>, line 1)",
     "output_type": "error",
     "traceback": [
      "\u001b[1;36m  File \u001b[1;32m\"<ipython-input-24-ee47820e3ce3>\"\u001b[1;36m, line \u001b[1;32m1\u001b[0m\n\u001b[1;33m    where process_folder\u001b[0m\n\u001b[1;37m          ^\u001b[0m\n\u001b[1;31mSyntaxError\u001b[0m\u001b[1;31m:\u001b[0m invalid syntax\n"
     ]
    }
   ],
   "source": [
    "where process_folder"
   ]
  }
 ],
 "metadata": {
  "kernelspec": {
   "display_name": "Python 3",
   "language": "python",
   "name": "python3"
  },
  "language_info": {
   "codemirror_mode": {
    "name": "ipython",
    "version": 3
   },
   "file_extension": ".py",
   "mimetype": "text/x-python",
   "name": "python",
   "nbconvert_exporter": "python",
   "pygments_lexer": "ipython3",
   "version": "3.9.2"
  }
 },
 "nbformat": 4,
 "nbformat_minor": 5
}

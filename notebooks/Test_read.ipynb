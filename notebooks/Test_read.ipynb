{
 "cells": [
  {
   "cell_type": "code",
   "execution_count": 1,
   "id": "essential-vulnerability",
   "metadata": {},
   "outputs": [],
   "source": [
    "base_dir = 'C:/temp'\n",
    "video_file = 'frame 1.bin'"
   ]
  },
  {
   "cell_type": "code",
   "execution_count": 12,
   "id": "breeding-partnership",
   "metadata": {},
   "outputs": [
    {
     "name": "stdout",
     "output_type": "stream",
     "text": [
      "2013088\n"
     ]
    }
   ],
   "source": [
    "\n",
    "file = open(os.path.join(base_dir,video_file), \"rb\")\n",
    "\n",
    "byte = \n",
    "print(len(byte))"
   ]
  },
  {
   "cell_type": "code",
   "execution_count": 22,
   "id": "spiritual-track",
   "metadata": {},
   "outputs": [],
   "source": [
    "import os.path\n",
    "import numpy as np\n",
    "import matplotlib.pyplot as plt\n",
    "from PIL import Image\n",
    "\n",
    "file = open(os.path.join(base_dir,video_file), \"rb\")\n",
    "dt = np.dtype({'names': ['a','r','g','b'],\n",
    "               'formats': [np.uint8, np.uint8, np.uint8, np.uint8]})\n",
    "I = np.frombuffer(file.read(), dtype=dt)\n",
    "#imgplot = plt.imshow(I['a'].reshape((532, 946)))\n",
    "#data = np.frombuffer(file.read(), dtype=np.uint8)\n",
    "im_data = np.stack((I['r'].reshape((532, 946)), I['g'].reshape((532, 946)),I['b'].reshape((532, 946)),I['a'].reshape((532, 946))), axis=2)\n",
    "Im = Image.fromarray(im_data,'RGBA')\n",
    "Im.show()"
   ]
  }
 ],
 "metadata": {
  "kernelspec": {
   "display_name": "Python 3",
   "language": "python",
   "name": "python3"
  },
  "language_info": {
   "codemirror_mode": {
    "name": "ipython",
    "version": 3
   },
   "file_extension": ".py",
   "mimetype": "text/x-python",
   "name": "python",
   "nbconvert_exporter": "python",
   "pygments_lexer": "ipython3",
   "version": "3.9.2"
  }
 },
 "nbformat": 4,
 "nbformat_minor": 5
}

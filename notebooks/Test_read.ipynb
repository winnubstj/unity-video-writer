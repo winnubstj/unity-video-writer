{
 "cells": [
  {
   "cell_type": "code",
   "execution_count": 1,
   "id": "essential-vulnerability",
   "metadata": {},
   "outputs": [],
   "source": [
    "base_dir = 'C:/temp'\n",
    "video_file = 'frame 1.bin'"
   ]
  },
  {
   "cell_type": "code",
   "execution_count": 12,
   "id": "breeding-partnership",
   "metadata": {},
   "outputs": [
    {
     "name": "stdout",
     "output_type": "stream",
     "text": [
      "2013088\n"
     ]
    }
   ],
   "source": [
    "\n",
    "file = open(os.path.join(base_dir,video_file), \"rb\")\n",
    "\n",
    "byte = \n",
    "print(len(byte))"
   ]
  },
  {
   "cell_type": "code",
   "execution_count": 54,
   "id": "spiritual-track",
   "metadata": {},
   "outputs": [
    {
     "name": "stdout",
     "output_type": "stream",
     "text": [
      "503272\n"
     ]
    }
   ],
   "source": [
    "import os.path\n",
    "import numpy as np\n",
    "import matplotlib.pyplot as plt\n",
    "from PIL import Image\n",
    "\n",
    "file = open(os.path.join(base_dir,video_file), \"rb\")\n",
    "dt = np.dtype({'names': ['a','r','g','b'],\n",
    "               'formats': [np.uint8, np.uint8, np.uint8, np.uint8]})\n",
    "I = np.frombuffer(file.read(), dtype=dt)\n",
    "print(len(I))\n",
    "#im_data = np.stack((I['r'],I['g'],I['b'],I['a']),axis=1).reshape((532, 946,4))\n",
    "#Im = Image.fromarray(im_data,'RGBA')\n",
    "\n",
    "im_data = np.stack((I['r'],I['g'],I['b']),axis=1).reshape((532, 946,3))\n",
    "Im = Image.fromarray(im_data,'RGB')\n",
    "\n",
    "Im.show()"
   ]
  },
  {
   "cell_type": "code",
   "execution_count": 40,
   "id": "foreign-yield",
   "metadata": {},
   "outputs": [
    {
     "name": "stdout",
     "output_type": "stream",
     "text": [
      "503272\n"
     ]
    }
   ],
   "source": [
    "with open(os.path.join(base_dir,\"video.bin\"), \"rb\") as file:\n",
    "    dt = np.dtype({'names': ['a','r','g','b'],\n",
    "                   'formats': [np.uint8, np.uint8, np.uint8, np.uint8]})\n",
    "    I = np.frombuffer(file.read((503272*4)), dtype=dt)\n",
    "print(len(I))\n",
    "im_data = np.stack((I['r'],I['g'],I['b']),axis=1).reshape((532, 946,3))\n",
    "Im = Image.fromarray(im_data,'RGB')\n",
    "\n",
    "Im.show()"
   ]
  },
  {
   "cell_type": "code",
   "execution_count": 67,
   "id": "convenient-career",
   "metadata": {},
   "outputs": [
    {
     "name": "stdout",
     "output_type": "stream",
     "text": [
      "(0.0253164,)\n",
      "57030,57030\n"
     ]
    }
   ],
   "source": [
    "import io\n",
    "import struct\n",
    "os.mkdir(os.path.join(base_dir,'temp'))\n",
    "temp_folder = \n",
    "with open(os.path.join(base_dir,\"video.bin\"), \"rb\") as file:\n",
    "    # get first 4 bytes (im size in bytes)\n",
    "    im_byte_size = int.from_bytes(file.read(4),byteorder='little')\n",
    "    im_bytes = file.read(im_byte_size)\n",
    "    im_elapsed = struct.unpack('d',file.read(8))\n",
    "    # write file.\n",
    "    \n",
    "    #print(im_elapsed)\n",
    "    #print(f'{im_byte_size},{len(im_bytes)}')\n",
    "    #picture_stream = io.BytesIO(im_bytes)\n",
    "    #picture = Image.open(picture_stream)\n",
    "    #picture = picture.transpose(Image.FLIP_TOP_BOTTOM)\n",
    "    #picture.show()"
   ]
  },
  {
   "cell_type": "code",
   "execution_count": 3,
   "id": "elementary-circular",
   "metadata": {},
   "outputs": [],
   "source": [
    "import io\n",
    "import struct\n",
    "import subprocess\n",
    "import os\n",
    "import shutil\n",
    "base_dir = 'C:/temp'\n",
    "input_file_name = '2021_3_5__16-45-13.univideo'\n",
    "# Create temp folder.\n",
    "temp_folder = os.path.join(base_dir,'temp')\n",
    "if not os.path.isdir(temp_folder):\n",
    "    os.mkdir(temp_folder)\n",
    "counter = 0\n",
    "export_file_name = os.path.join(temp_folder,\"export.txt\") # stores frame file names and duration\n",
    "with open(os.path.join(base_dir,input_file_name), \"rb\") as file, open(export_file_name, \"w\") as export_file:\n",
    "    while file.read(1):\n",
    "        counter+=1\n",
    "        file.seek(-1,1)\n",
    "        # get first 4 bytes (im size in bytes)\n",
    "        im_byte_size = int.from_bytes(file.read(4),byteorder='little')\n",
    "        # get jpeg.\n",
    "        im_bytes = file.read(im_byte_size)\n",
    "        if file.read(1):\n",
    "            file.seek(-1,1)\n",
    "            output_file_name = f'frame_{counter}.jpeg'\n",
    "            # get duration of frame\n",
    "            im_duration = struct.unpack('d',file.read(8))[0]\n",
    "            # write export settings.\n",
    "            export_file.write(f'file \\'{output_file_name}\\'\\n' )\n",
    "            export_file.write(f'duration {im_duration}\\n' )\n",
    "            # write jpeg file.\n",
    "            with open(os.path.join(temp_folder,output_file_name), \"wb\") as output_file:\n",
    "                output_file.write(im_bytes)\n",
    "# run ffmpeg.\n",
    "os.chdir(temp_folder)\n",
    "subprocess.call(f'ffmpeg -y -f concat -i export.txt -filter:v \"vflip\" ../{os.path.splitext(input_file_name)[0]}.mp4', shell=True)\n",
    "os.chdir(base_dir)\n",
    "# delete temp folder.\n",
    "shutil.rmtree(temp_folder)\n",
    "# delete binary file.\n",
    "os.remove(os.path.join(base_dir,input_file_name))"
   ]
  },
  {
   "cell_type": "code",
   "execution_count": null,
   "id": "every-egyptian",
   "metadata": {},
   "outputs": [],
   "source": [
    "def Process_UniVideo(base_dir, input_file_name):\n",
    "    # Create temp folder.\n",
    "    temp_folder = os.path.join(base_dir,'temp')\n",
    "    if not os.path.isdir(temp_folder):\n",
    "        os.mkdir(temp_folder)\n",
    "    counter = 0\n",
    "    export_file_name = os.path.join(temp_folder,\"export.txt\") # stores frame file names and duration\n",
    "    with open(os.path.join(base_dir,input_file_name), \"rb\") as file, open(export_file_name, \"w\") as export_file:\n",
    "        while file.read(1):\n",
    "            counter+=1\n",
    "            file.seek(-1,1)\n",
    "            # get first 4 bytes (im size in bytes)\n",
    "            im_byte_size = int.from_bytes(file.read(4),byteorder='little')\n",
    "            # get jpeg.\n",
    "            im_bytes = file.read(im_byte_size)\n",
    "            if file.read(1):\n",
    "                file.seek(-1,1)\n",
    "                output_file_name = f'frame_{counter}.jpeg'\n",
    "                # get duration of frame\n",
    "                im_duration = struct.unpack('d',file.read(8))[0]\n",
    "                # write export settings.\n",
    "                export_file.write(f'file \\'{output_file_name}\\'\\n' )\n",
    "                export_file.write(f'duration {im_duration}\\n' )\n",
    "                # write jpeg file.\n",
    "                with open(os.path.join(temp_folder,output_file_name), \"wb\") as output_file:\n",
    "                    output_file.write(im_bytes)\n",
    "    # run ffmpeg.\n",
    "    os.chdir(temp_folder)\n",
    "    subprocess.call(f'ffmpeg -y -f concat -i export.txt -filter:v \"vflip\" ../{os.path.splitext(input_file_name)[0]}.mp4', shell=True)\n",
    "    os.chdir(base_dir)\n",
    "    # delete temp folder.\n",
    "    shutil.rmtree(temp_folder)\n",
    "    # delete binary file.\n",
    "    os.remove(os.path.join(base_dir,input_file_name))"
   ]
  }
 ],
 "metadata": {
  "kernelspec": {
   "display_name": "Python 3",
   "language": "python",
   "name": "python3"
  },
  "language_info": {
   "codemirror_mode": {
    "name": "ipython",
    "version": 3
   },
   "file_extension": ".py",
   "mimetype": "text/x-python",
   "name": "python",
   "nbconvert_exporter": "python",
   "pygments_lexer": "ipython3",
   "version": "3.9.2"
  }
 },
 "nbformat": 4,
 "nbformat_minor": 5
}

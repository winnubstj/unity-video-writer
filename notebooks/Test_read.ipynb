{
 "cells": [
  {
   "cell_type": "code",
   "execution_count": 30,
   "id": "essential-vulnerability",
   "metadata": {},
   "outputs": [],
   "source": [
    "base_dir = 'C:/temp'\n",
    "video_file = 'frame 1.bin'"
   ]
  },
  {
   "cell_type": "code",
   "execution_count": 12,
   "id": "breeding-partnership",
   "metadata": {},
   "outputs": [
    {
     "name": "stdout",
     "output_type": "stream",
     "text": [
      "2013088\n"
     ]
    }
   ],
   "source": [
    "\n",
    "file = open(os.path.join(base_dir,video_file), \"rb\")\n",
    "\n",
    "byte = \n",
    "print(len(byte))"
   ]
  },
  {
   "cell_type": "code",
   "execution_count": 33,
   "id": "spiritual-track",
   "metadata": {},
   "outputs": [
    {
     "name": "stdout",
     "output_type": "stream",
     "text": [
      "503272\n"
     ]
    }
   ],
   "source": [
    "import os.path\n",
    "import numpy as np\n",
    "import matplotlib.pyplot as plt\n",
    "from PIL import Image\n",
    "\n",
    "file = open(os.path.join(base_dir,video_file), \"rb\")\n",
    "dt = np.dtype({'names': ['a','r','g','b'],\n",
    "               'formats': [np.uint8, np.uint8, np.uint8, np.uint8]})\n",
    "I = np.frombuffer(file.read(), dtype=dt)\n",
    "print(len(I))\n",
    "#im_data = np.stack((I['r'],I['g'],I['b'],I['a']),axis=1).reshape((532, 946,4))\n",
    "#Im = Image.fromarray(im_data,'RGBA')\n",
    "\n",
    "im_data = np.stack((I['r'],I['g'],I['b']),axis=1).reshape((532, 946,3))\n",
    "Im = Image.fromarray(im_data,'RGB')\n",
    "\n",
    "Im.show()"
   ]
  },
  {
   "cell_type": "code",
   "execution_count": 36,
   "id": "pointed-gibson",
   "metadata": {},
   "outputs": [
    {
     "name": "stdout",
     "output_type": "stream",
     "text": [
      "125818\n"
     ]
    },
    {
     "ename": "ValueError",
     "evalue": "cannot reshape array of size 377454 into shape (532,946,3)",
     "output_type": "error",
     "traceback": [
      "\u001b[1;31m---------------------------------------------------------------------------\u001b[0m",
      "\u001b[1;31mValueError\u001b[0m                                Traceback (most recent call last)",
      "\u001b[1;32m<ipython-input-36-f0da54383e5b>\u001b[0m in \u001b[0;36m<module>\u001b[1;34m\u001b[0m\n\u001b[0;32m      4\u001b[0m \u001b[0mI\u001b[0m \u001b[1;33m=\u001b[0m \u001b[0mnp\u001b[0m\u001b[1;33m.\u001b[0m\u001b[0mfrombuffer\u001b[0m\u001b[1;33m(\u001b[0m\u001b[0mfile\u001b[0m\u001b[1;33m.\u001b[0m\u001b[0mread\u001b[0m\u001b[1;33m(\u001b[0m\u001b[1;36m503272\u001b[0m\u001b[1;33m)\u001b[0m\u001b[1;33m,\u001b[0m \u001b[0mdtype\u001b[0m\u001b[1;33m=\u001b[0m\u001b[0mdt\u001b[0m\u001b[1;33m)\u001b[0m\u001b[1;33m\u001b[0m\u001b[1;33m\u001b[0m\u001b[0m\n\u001b[0;32m      5\u001b[0m \u001b[0mprint\u001b[0m\u001b[1;33m(\u001b[0m\u001b[0mlen\u001b[0m\u001b[1;33m(\u001b[0m\u001b[0mI\u001b[0m\u001b[1;33m)\u001b[0m\u001b[1;33m)\u001b[0m\u001b[1;33m\u001b[0m\u001b[1;33m\u001b[0m\u001b[0m\n\u001b[1;32m----> 6\u001b[1;33m \u001b[0mim_data\u001b[0m \u001b[1;33m=\u001b[0m \u001b[0mnp\u001b[0m\u001b[1;33m.\u001b[0m\u001b[0mstack\u001b[0m\u001b[1;33m(\u001b[0m\u001b[1;33m(\u001b[0m\u001b[0mI\u001b[0m\u001b[1;33m[\u001b[0m\u001b[1;34m'r'\u001b[0m\u001b[1;33m]\u001b[0m\u001b[1;33m,\u001b[0m\u001b[0mI\u001b[0m\u001b[1;33m[\u001b[0m\u001b[1;34m'g'\u001b[0m\u001b[1;33m]\u001b[0m\u001b[1;33m,\u001b[0m\u001b[0mI\u001b[0m\u001b[1;33m[\u001b[0m\u001b[1;34m'b'\u001b[0m\u001b[1;33m]\u001b[0m\u001b[1;33m)\u001b[0m\u001b[1;33m,\u001b[0m\u001b[0maxis\u001b[0m\u001b[1;33m=\u001b[0m\u001b[1;36m1\u001b[0m\u001b[1;33m)\u001b[0m\u001b[1;33m.\u001b[0m\u001b[0mreshape\u001b[0m\u001b[1;33m(\u001b[0m\u001b[1;33m(\u001b[0m\u001b[1;36m532\u001b[0m\u001b[1;33m,\u001b[0m \u001b[1;36m946\u001b[0m\u001b[1;33m,\u001b[0m\u001b[1;36m3\u001b[0m\u001b[1;33m)\u001b[0m\u001b[1;33m)\u001b[0m\u001b[1;33m\u001b[0m\u001b[1;33m\u001b[0m\u001b[0m\n\u001b[0m\u001b[0;32m      7\u001b[0m \u001b[0mIm\u001b[0m \u001b[1;33m=\u001b[0m \u001b[0mImage\u001b[0m\u001b[1;33m.\u001b[0m\u001b[0mfromarray\u001b[0m\u001b[1;33m(\u001b[0m\u001b[0mim_data\u001b[0m\u001b[1;33m,\u001b[0m\u001b[1;34m'RGB'\u001b[0m\u001b[1;33m)\u001b[0m\u001b[1;33m\u001b[0m\u001b[1;33m\u001b[0m\u001b[0m\n\u001b[0;32m      8\u001b[0m \u001b[1;33m\u001b[0m\u001b[0m\n",
      "\u001b[1;31mValueError\u001b[0m: cannot reshape array of size 377454 into shape (532,946,3)"
     ]
    }
   ],
   "source": [
    "file = open(os.path.join(base_dir,\"video.bin\"), \"rb\")\n",
    "dt = np.dtype({'names': ['a','r','g','b'],\n",
    "               'formats': [np.uint8, np.uint8, np.uint8, np.uint8]})\n",
    "I = np.frombuffer(file.read(503272), dtype=dt)\n",
    "print(len(I))\n",
    "im_data = np.stack((I['r'],I['g'],I['b']),axis=1).reshape((532, 946,3))\n",
    "Im = Image.fromarray(im_data,'RGB')\n",
    "\n",
    "Im.show()"
   ]
  }
 ],
 "metadata": {
  "kernelspec": {
   "display_name": "Python 3",
   "language": "python",
   "name": "python3"
  },
  "language_info": {
   "codemirror_mode": {
    "name": "ipython",
    "version": 3
   },
   "file_extension": ".py",
   "mimetype": "text/x-python",
   "name": "python",
   "nbconvert_exporter": "python",
   "pygments_lexer": "ipython3",
   "version": "3.9.2"
  }
 },
 "nbformat": 4,
 "nbformat_minor": 5
}
